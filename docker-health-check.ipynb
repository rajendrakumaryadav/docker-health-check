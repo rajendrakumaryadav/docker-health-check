{
 "cells": [
  {
   "cell_type": "code",
   "execution_count": 264,
   "id": "initial_id",
   "metadata": {
    "collapsed": true,
    "ExecuteTime": {
     "end_time": "2024-01-31T19:22:05.367439604Z",
     "start_time": "2024-01-31T19:22:05.215181991Z"
    }
   },
   "outputs": [],
   "source": [
    "\n",
    "\n",
    "import docker"
   ]
  },
  {
   "cell_type": "code",
   "outputs": [],
   "source": [
    "client = docker.client.APIClient(base_url='unix://var/run/docker.sock')"
   ],
   "metadata": {
    "collapsed": false,
    "ExecuteTime": {
     "end_time": "2024-01-31T19:22:05.410365427Z",
     "start_time": "2024-01-31T19:22:05.301604243Z"
    }
   },
   "id": "19774cb538c8e4dd",
   "execution_count": 265
  },
  {
   "cell_type": "code",
   "outputs": [
    {
     "data": {
      "text/plain": "{'Platform': {'Name': 'Docker Engine - Community'},\n 'Components': [{'Name': 'Engine',\n   'Version': '25.0.1',\n   'Details': {'ApiVersion': '1.44',\n    'Arch': 'amd64',\n    'BuildTime': '2024-01-23T23:09:23.000000000+00:00',\n    'Experimental': 'false',\n    'GitCommit': '71fa3ab',\n    'GoVersion': 'go1.21.6',\n    'KernelVersion': '6.5.0-15-generic',\n    'MinAPIVersion': '1.24',\n    'Os': 'linux'}},\n  {'Name': 'containerd',\n   'Version': '1.6.27',\n   'Details': {'GitCommit': 'a1496014c916f9e62104b33d1bb5bd03b0858e59'}},\n  {'Name': 'runc',\n   'Version': '1.1.11',\n   'Details': {'GitCommit': 'v1.1.11-0-g4bccb38'}},\n  {'Name': 'docker-init',\n   'Version': '0.19.0',\n   'Details': {'GitCommit': 'de40ad0'}}],\n 'Version': '25.0.1',\n 'ApiVersion': '1.44',\n 'MinAPIVersion': '1.24',\n 'GitCommit': '71fa3ab',\n 'GoVersion': 'go1.21.6',\n 'Os': 'linux',\n 'Arch': 'amd64',\n 'KernelVersion': '6.5.0-15-generic',\n 'BuildTime': '2024-01-23T23:09:23.000000000+00:00'}"
     },
     "execution_count": 266,
     "metadata": {},
     "output_type": "execute_result"
    }
   ],
   "source": [
    "client.version()"
   ],
   "metadata": {
    "collapsed": false,
    "ExecuteTime": {
     "end_time": "2024-01-31T19:22:05.442243972Z",
     "start_time": "2024-01-31T19:22:05.377857079Z"
    }
   },
   "id": "12348411d2b013e2",
   "execution_count": 266
  },
  {
   "cell_type": "code",
   "outputs": [
    {
     "data": {
      "text/plain": "'1.44'"
     },
     "execution_count": 267,
     "metadata": {},
     "output_type": "execute_result"
    }
   ],
   "source": [
    "client.api_version"
   ],
   "metadata": {
    "collapsed": false,
    "ExecuteTime": {
     "end_time": "2024-01-31T19:22:05.464402636Z",
     "start_time": "2024-01-31T19:22:05.442383587Z"
    }
   },
   "id": "451dd3746555da11",
   "execution_count": 267
  },
  {
   "cell_type": "code",
   "outputs": [
    {
     "data": {
      "text/plain": "[{'Containers': -1,\n  'Created': 1706721991,\n  'Id': 'sha256:149148752a445c2c64d15c91b17ad6c9faa2e9d2609e0616a561301c06d23cbb',\n  'Labels': {'MAINTAINER': 'Rajendra Kumar R Yadav'},\n  'ParentId': '',\n  'RepoDigests': ['rajendrayadav/grpcserver@sha256:6d7b3496a5e0855a728063dfc38112c4df8f0c6f42dc93ecb89b9a4aac546ea2'],\n  'RepoTags': ['rajendrayadav/grpcserver:latest'],\n  'SharedSize': -1,\n  'Size': 173204023},\n {'Containers': -1,\n  'Created': 1706721384,\n  'Id': 'sha256:e66b7be3f8298fad3e5bdd2bf53cbd55e2c6ca2dd1d2b7528bee73a7e7fccd25',\n  'Labels': {'MAINTAINER': 'Rajendra Kumar R Yadav'},\n  'ParentId': '',\n  'RepoDigests': ['rajendrayadav/grpcserver@sha256:88c21a2f39c8d429671dafa5e621acc984258e24550ef5100e1ce1c33dee5611'],\n  'RepoTags': [],\n  'SharedSize': -1,\n  'Size': 173203675},\n {'Containers': -1,\n  'Created': 1704542510,\n  'Id': 'sha256:421034f051800110b07457464a838a0f826e4974f6c96e2fd9a0ed284f023b2b',\n  'Labels': {'MAINTAINER': 'Rajendra Kumar R Yadav'},\n  'ParentId': '',\n  'RepoDigests': ['rajendrayadav/grpcserver@sha256:e12bbc232accbd4e6224e30556f4d09f9857f46b9b8fbc73e1084fbb1e8c530d'],\n  'RepoTags': [],\n  'SharedSize': -1,\n  'Size': 173200916},\n {'Containers': -1,\n  'Created': 1704482628,\n  'Id': 'sha256:8afd09f27b6258a047a962c61db75f991dd394c2196e0064fbc80194c0146e7f',\n  'Labels': {'authors': 'Rajendra Kumar R Yadav'},\n  'ParentId': '',\n  'RepoDigests': ['rajendrayadav/webserver@sha256:5f0513fae0999cde2c6118ae8d3f5c9dfd1369a87f8645f6d3f3d8d9b6e772b0'],\n  'RepoTags': ['rajendrayadav/webserver:latest'],\n  'SharedSize': -1,\n  'Size': 178464404}]"
     },
     "execution_count": 268,
     "metadata": {},
     "output_type": "execute_result"
    }
   ],
   "source": [
    "client.images()"
   ],
   "metadata": {
    "collapsed": false,
    "ExecuteTime": {
     "end_time": "2024-01-31T19:22:05.534793373Z",
     "start_time": "2024-01-31T19:22:05.462983914Z"
    }
   },
   "id": "7830364c17f61724",
   "execution_count": 268
  },
  {
   "cell_type": "code",
   "outputs": [],
   "source": [
    "for container_info in client.containers():\n",
    "    print(container_info)"
   ],
   "metadata": {
    "collapsed": false,
    "ExecuteTime": {
     "end_time": "2024-01-31T19:22:05.536115693Z",
     "start_time": "2024-01-31T19:22:05.506550264Z"
    }
   },
   "id": "9c3d65d151815ddb",
   "execution_count": 269
  },
  {
   "cell_type": "code",
   "outputs": [
    {
     "data": {
      "text/plain": "[]"
     },
     "execution_count": 270,
     "metadata": {},
     "output_type": "execute_result"
    }
   ],
   "source": [
    "client.containers()"
   ],
   "metadata": {
    "collapsed": false,
    "ExecuteTime": {
     "end_time": "2024-01-31T19:22:05.602551755Z",
     "start_time": "2024-01-31T19:22:05.534749197Z"
    }
   },
   "id": "323554ae017064d1",
   "execution_count": 270
  },
  {
   "cell_type": "code",
   "outputs": [
    {
     "data": {
      "text/plain": "[]"
     },
     "execution_count": 271,
     "metadata": {},
     "output_type": "execute_result"
    }
   ],
   "source": [
    "client.containers(all=True)"
   ],
   "metadata": {
    "collapsed": false,
    "ExecuteTime": {
     "end_time": "2024-01-31T19:22:05.619172417Z",
     "start_time": "2024-01-31T19:22:05.577342175Z"
    }
   },
   "id": "ae305797e4862314",
   "execution_count": 271
  },
  {
   "cell_type": "code",
   "outputs": [
    {
     "data": {
      "text/plain": "[]"
     },
     "execution_count": 272,
     "metadata": {},
     "output_type": "execute_result"
    }
   ],
   "source": [
    "client.containers(all=True, filters={'status': 'running'})"
   ],
   "metadata": {
    "collapsed": false,
    "ExecuteTime": {
     "end_time": "2024-01-31T19:22:05.673828169Z",
     "start_time": "2024-01-31T19:22:05.597309541Z"
    }
   },
   "id": "ca6bb7adb0d33936",
   "execution_count": 272
  },
  {
   "cell_type": "code",
   "outputs": [
    {
     "data": {
      "text/plain": "[]"
     },
     "execution_count": 273,
     "metadata": {},
     "output_type": "execute_result"
    }
   ],
   "source": [
    "client.containers(all=True, filters={'status': 'exited'})"
   ],
   "metadata": {
    "collapsed": false,
    "ExecuteTime": {
     "end_time": "2024-01-31T19:22:05.715396843Z",
     "start_time": "2024-01-31T19:22:05.674063273Z"
    }
   },
   "id": "15bef0af08704a4e",
   "execution_count": 273
  },
  {
   "cell_type": "code",
   "outputs": [],
   "source": [
    "containers = client.containers()"
   ],
   "metadata": {
    "collapsed": false,
    "ExecuteTime": {
     "end_time": "2024-01-31T19:22:05.760683255Z",
     "start_time": "2024-01-31T19:22:05.697787946Z"
    }
   },
   "id": "7c23a923bb518775",
   "execution_count": 274
  },
  {
   "cell_type": "code",
   "outputs": [
    {
     "data": {
      "text/plain": "[]"
     },
     "execution_count": 275,
     "metadata": {},
     "output_type": "execute_result"
    }
   ],
   "source": [
    "containers"
   ],
   "metadata": {
    "collapsed": false,
    "ExecuteTime": {
     "end_time": "2024-01-31T19:22:05.783373123Z",
     "start_time": "2024-01-31T19:22:05.741366198Z"
    }
   },
   "id": "93ee2b10f629a006",
   "execution_count": 275
  },
  {
   "cell_type": "code",
   "outputs": [],
   "source": [
    "for container in containers:\n",
    "    print(container.keys())"
   ],
   "metadata": {
    "collapsed": false,
    "ExecuteTime": {
     "end_time": "2024-01-31T19:22:05.828617540Z",
     "start_time": "2024-01-31T19:22:05.769781325Z"
    }
   },
   "id": "24fd5040ba7ec74f",
   "execution_count": 276
  },
  {
   "cell_type": "code",
   "outputs": [],
   "source": [
    "for container in containers:\n",
    "    print(container.get('Status'))"
   ],
   "metadata": {
    "collapsed": false,
    "ExecuteTime": {
     "end_time": "2024-01-31T19:22:05.851563500Z",
     "start_time": "2024-01-31T19:22:05.829047826Z"
    }
   },
   "id": "2c75e91825c6d694",
   "execution_count": 277
  },
  {
   "cell_type": "code",
   "outputs": [],
   "source": [
    "for container in containers:\n",
    "    print(container.get('State'))"
   ],
   "metadata": {
    "collapsed": false,
    "ExecuteTime": {
     "end_time": "2024-01-31T19:22:05.877817986Z",
     "start_time": "2024-01-31T19:22:05.850670954Z"
    }
   },
   "id": "81df01b69679076d",
   "execution_count": 278
  },
  {
   "cell_type": "code",
   "outputs": [],
   "source": [
    "container = []\n",
    "for c in containers:\n",
    "    container.append(c.get('Labels'))"
   ],
   "metadata": {
    "collapsed": false,
    "ExecuteTime": {
     "end_time": "2024-01-31T19:22:05.896800009Z",
     "start_time": "2024-01-31T19:22:05.876562151Z"
    }
   },
   "id": "d9635b9c499ef7e9",
   "execution_count": 279
  },
  {
   "cell_type": "code",
   "outputs": [],
   "source": [
    "service_names = []\n",
    "for c in container:\n",
    "    print(c.get('com.docker.compose.service'))\n",
    "    service_names.append(c.get('com.docker.compose.service'))"
   ],
   "metadata": {
    "collapsed": false,
    "ExecuteTime": {
     "end_time": "2024-01-31T19:22:05.929189006Z",
     "start_time": "2024-01-31T19:22:05.896147840Z"
    }
   },
   "id": "e152c383b680e7db",
   "execution_count": 280
  },
  {
   "cell_type": "code",
   "outputs": [],
   "source": [
    "service_and_status = {}\n",
    "for service in service_names:\n",
    "    service_and_status[service] = client.inspect_container(service).get('State').get('Health').get('Status')\n"
   ],
   "metadata": {
    "collapsed": false,
    "ExecuteTime": {
     "end_time": "2024-01-31T19:22:05.959243274Z",
     "start_time": "2024-01-31T19:22:05.904883220Z"
    }
   },
   "id": "eaddd5336f7912b6",
   "execution_count": 281
  },
  {
   "cell_type": "code",
   "outputs": [
    {
     "data": {
      "text/plain": "{}"
     },
     "execution_count": 282,
     "metadata": {},
     "output_type": "execute_result"
    }
   ],
   "source": [
    "service_and_status"
   ],
   "metadata": {
    "collapsed": false,
    "ExecuteTime": {
     "end_time": "2024-01-31T19:22:05.978297991Z",
     "start_time": "2024-01-31T19:22:05.932279747Z"
    }
   },
   "id": "11d057fba3638551",
   "execution_count": 282
  },
  {
   "cell_type": "code",
   "outputs": [],
   "source": [
    "import flask\n",
    "\n",
    "app = flask.Flask(__name__)\n",
    "\n",
    "\n",
    "@app.route('/')\n",
    "def index():\n",
    "    service_and_status = {}\n",
    "    for service in service_names:\n",
    "        try:\n",
    "            service_and_status[service] = client.inspect_container(service).get('State').get('Health').get('Status')\n",
    "        except:\n",
    "            service_and_status[service] = 'not running'\n",
    "    return flask.render_template('index.html', service_and_status=service_and_status)\n"
   ],
   "metadata": {
    "collapsed": false,
    "ExecuteTime": {
     "end_time": "2024-01-31T19:22:05.990556253Z",
     "start_time": "2024-01-31T19:22:05.959598081Z"
    }
   },
   "id": "9e65d0e592bd5e7d",
   "execution_count": 283
  },
  {
   "cell_type": "code",
   "outputs": [
    {
     "name": "stdout",
     "output_type": "stream",
     "text": [
      " * Serving Flask app '__main__'\n",
      " * Debug mode: off\n"
     ]
    },
    {
     "name": "stderr",
     "output_type": "stream",
     "text": [
      "WARNING: This is a development server. Do not use it in a production deployment. Use a production WSGI server instead.\n",
      " * Running on http://localhost:8001\n",
      "Press CTRL+C to quit\n",
      "127.0.0.1 - - [01/Feb/2024 00:54:58] \"GET / HTTP/1.1\" 200 -\n",
      "127.0.0.1 - - [01/Feb/2024 00:55:00] \"GET / HTTP/1.1\" 200 -\n",
      "127.0.0.1 - - [01/Feb/2024 00:55:03] \"GET / HTTP/1.1\" 200 -\n"
     ]
    }
   ],
   "source": [
    "app.run(host='localhost', port=8001)"
   ],
   "metadata": {
    "collapsed": false,
    "ExecuteTime": {
     "end_time": "2024-01-31T19:25:03.271473135Z",
     "start_time": "2024-01-31T19:24:57.576304795Z"
    }
   },
   "id": "fa3c79b91741a407",
   "execution_count": 287
  },
  {
   "cell_type": "code",
   "outputs": [],
   "source": [],
   "metadata": {
    "collapsed": false,
    "ExecuteTime": {
     "end_time": "2024-01-31T19:22:48.184884163Z",
     "start_time": "2024-01-31T19:22:48.153855089Z"
    }
   },
   "id": "252647144d5d4755",
   "execution_count": 284
  }
 ],
 "metadata": {
  "kernelspec": {
   "display_name": "Python 3",
   "language": "python",
   "name": "python3"
  },
  "language_info": {
   "codemirror_mode": {
    "name": "ipython",
    "version": 2
   },
   "file_extension": ".py",
   "mimetype": "text/x-python",
   "name": "python",
   "nbconvert_exporter": "python",
   "pygments_lexer": "ipython2",
   "version": "2.7.6"
  }
 },
 "nbformat": 4,
 "nbformat_minor": 5
}
